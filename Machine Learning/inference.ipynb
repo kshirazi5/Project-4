{
 "cells": [
  {
   "cell_type": "code",
   "execution_count": 1,
   "id": "9fbb1076-9069-44e3-932f-f97571e8de96",
   "metadata": {},
   "outputs": [],
   "source": [
    "import pickle"
   ]
  },
  {
   "cell_type": "code",
   "execution_count": 8,
   "id": "98beabaa-eaa9-4d82-9729-46dfa81940ff",
   "metadata": {},
   "outputs": [],
   "source": [
    "from datetime import timedelta"
   ]
  },
  {
   "cell_type": "code",
   "execution_count": 2,
   "id": "763a60c8-9dbf-45c0-96d7-aa99653ac689",
   "metadata": {},
   "outputs": [],
   "source": [
    "with open('scaler.pkl', 'rb') as f: \n",
    "    scaler=pickle.load(f)\n",
    "    \n",
    "with open('lr.pkl', 'rb') as f: \n",
    "    lr=pickle.load(f)"
   ]
  },
  {
   "cell_type": "code",
   "execution_count": 3,
   "id": "34c489b2-f03c-4c00-873f-0fb64f129419",
   "metadata": {},
   "outputs": [],
   "source": [
    "import pandas as pd"
   ]
  },
  {
   "cell_type": "code",
   "execution_count": 11,
   "id": "0f84ac03-b495-4016-ace5-426c1215d9a4",
   "metadata": {},
   "outputs": [
    {
     "data": {
      "text/html": [
       "<div>\n",
       "<style scoped>\n",
       "    .dataframe tbody tr th:only-of-type {\n",
       "        vertical-align: middle;\n",
       "    }\n",
       "\n",
       "    .dataframe tbody tr th {\n",
       "        vertical-align: top;\n",
       "    }\n",
       "\n",
       "    .dataframe thead th {\n",
       "        text-align: right;\n",
       "    }\n",
       "</style>\n",
       "<table border=\"1\" class=\"dataframe\">\n",
       "  <thead>\n",
       "    <tr style=\"text-align: right;\">\n",
       "      <th></th>\n",
       "      <th>FTXN</th>\n",
       "      <th>GLD</th>\n",
       "      <th>SPY</th>\n",
       "      <th>^SPGSSOTR</th>\n",
       "    </tr>\n",
       "    <tr>\n",
       "      <th>Datetime</th>\n",
       "      <th></th>\n",
       "      <th></th>\n",
       "      <th></th>\n",
       "      <th></th>\n",
       "    </tr>\n",
       "  </thead>\n",
       "  <tbody>\n",
       "    <tr>\n",
       "      <th>2021-05-25 09:30:00-04:00</th>\n",
       "      <td>16.750000</td>\n",
       "      <td>177.212997</td>\n",
       "      <td>419.459991</td>\n",
       "      <td>5615.495117</td>\n",
       "    </tr>\n",
       "    <tr>\n",
       "      <th>2021-05-25 10:30:00-04:00</th>\n",
       "      <td>16.570000</td>\n",
       "      <td>177.139999</td>\n",
       "      <td>418.535004</td>\n",
       "      <td>5527.352051</td>\n",
       "    </tr>\n",
       "    <tr>\n",
       "      <th>2021-05-25 11:30:00-04:00</th>\n",
       "      <td>16.610001</td>\n",
       "      <td>177.339996</td>\n",
       "      <td>419.274994</td>\n",
       "      <td>5538.370117</td>\n",
       "    </tr>\n",
       "    <tr>\n",
       "      <th>2021-05-25 12:30:00-04:00</th>\n",
       "      <td>16.629999</td>\n",
       "      <td>177.699997</td>\n",
       "      <td>419.095001</td>\n",
       "      <td>5522.761230</td>\n",
       "    </tr>\n",
       "    <tr>\n",
       "      <th>2021-05-25 13:30:00-04:00</th>\n",
       "      <td>16.559999</td>\n",
       "      <td>177.699997</td>\n",
       "      <td>418.329987</td>\n",
       "      <td>5555.814941</td>\n",
       "    </tr>\n",
       "  </tbody>\n",
       "</table>\n",
       "</div>"
      ],
      "text/plain": [
       "                                FTXN         GLD         SPY    ^SPGSSOTR\n",
       "Datetime                                                                 \n",
       "2021-05-25 09:30:00-04:00  16.750000  177.212997  419.459991  5615.495117\n",
       "2021-05-25 10:30:00-04:00  16.570000  177.139999  418.535004  5527.352051\n",
       "2021-05-25 11:30:00-04:00  16.610001  177.339996  419.274994  5538.370117\n",
       "2021-05-25 12:30:00-04:00  16.629999  177.699997  419.095001  5522.761230\n",
       "2021-05-25 13:30:00-04:00  16.559999  177.699997  418.329987  5555.814941"
      ]
     },
     "execution_count": 11,
     "metadata": {},
     "output_type": "execute_result"
    }
   ],
   "source": [
    "df=pd.read_csv('Resources/training_data.csv', index_col='Datetime', parse_dates=True)\n",
    "df.head()"
   ]
  },
  {
   "cell_type": "code",
   "execution_count": 29,
   "id": "52bde090-05b0-4c97-861e-e9b0b7e90bff",
   "metadata": {},
   "outputs": [
    {
     "name": "stdout",
     "output_type": "stream",
     "text": [
      "Predict: [408.96042352] vs Actual: [409.66500854].\n"
     ]
    },
    {
     "name": "stderr",
     "output_type": "stream",
     "text": [
      "/Users/alexdelao/opt/anaconda3/lib/python3.9/site-packages/sklearn/base.py:439: UserWarning: X does not have valid feature names, but StandardScaler was fitted with feature names\n",
      "  warnings.warn(\n"
     ]
    }
   ],
   "source": [
    "random_sample=df.sample(1)\n",
    "next_hour=random_sample.index+timedelta(hours=1)\n",
    "actual=df.loc[next_hour, 'SPY'].values\n",
    "\n",
    "input_scaled=scaler.transform(random_sample.values)\n",
    "\n",
    "prediction=lr.predict(input_scaled)\n",
    "\n",
    "print(f'Predict: {prediction} vs Actual: {actual}.')"
   ]
  }
 ],
 "metadata": {
  "kernelspec": {
   "display_name": "Python 3 (ipykernel)",
   "language": "python",
   "name": "python3"
  },
  "language_info": {
   "codemirror_mode": {
    "name": "ipython",
    "version": 3
   },
   "file_extension": ".py",
   "mimetype": "text/x-python",
   "name": "python",
   "nbconvert_exporter": "python",
   "pygments_lexer": "ipython3",
   "version": "3.9.12"
  }
 },
 "nbformat": 4,
 "nbformat_minor": 5
}
